{
 "cells": [
  {
   "cell_type": "markdown",
   "id": "02c00374",
   "metadata": {},
   "source": [
    "# CFR Variants Comparative Analysis\n",
    "\n",
    "This notebook trains and compares four CFR-based agents:\n",
    "\n",
    "- Tabular CFR (Chance Sampling)\n",
    "- Tabular CFR (External Sampling)\n",
    "- Neural Policy (trained on Chance Sampling data)\n",
    "- Neural Policy (trained on External Sampling data)\n",
    "\n",
    "We plot convergence curves and play matches among the top variants."
   ]
  },
  {
   "cell_type": "markdown",
   "id": "fecea09a",
   "metadata": {},
   "source": [
    "## Setup and Imports\n",
    "\n",
    "Ensure your project structure is as follows:\n",
    "```\n",
    "engine/\n",
    "  KuhnPokerEngine.py\n",
    "  utilities.py\n",
    "players/\n",
    "  cfr_agent.py\n",
    "logs/\n",
    "  game_data/\n",
    "```\n",
    "\n",
    "Add the project root to `sys.path` and import our trainers and agents."
   ]
  },
  {
   "cell_type": "code",
   "execution_count": 1,
   "id": "bd7f8415",
   "metadata": {},
   "outputs": [],
   "source": [
    "import sys, os\n",
    "# Adjust this path to your project root if needed\n",
    "project_root = os.path.abspath('..')\n",
    "if project_root not in sys.path:\n",
    "    sys.path.insert(0, project_root)\n",
    "\n",
    "from players.cfr_agent import CFRTrainerChance, CFRTrainerExternal, CFRAgentChance, CFRAgentExternal, NeuralAgent\n",
    "from engine.KuhnPokerEngine import KuhnPokerEngine\n",
    "import matplotlib.pyplot as plt\n",
    "import numpy as np"
   ]
  },
  {
   "cell_type": "markdown",
   "id": "3621967a",
   "metadata": {},
   "source": [
    "## Training Convergence for Tabular Variants\n",
    "\n",
    "We run increasing iteration counts and record average game value for both tabular variants."
   ]
  },
  {
   "cell_type": "code",
   "execution_count": 3,
   "id": "e1be6494",
   "metadata": {},
   "outputs": [
    {
     "name": "stdout",
     "output_type": "stream",
     "text": [
      "Training CFRTrainerChance for 10000 iterations...\n",
      "[ChanceCFR] Avg game value: -0.103\n",
      "[ChanceCFR] Strategy saved to /Users/parthkapur/UNi/Spring_25/710_FML/Project/poker/logs/game_data/cfr_strategy_chance.json\n",
      "Training CFRTrainerChance for 20000 iterations...\n",
      "[ChanceCFR] Avg game value: -0.090\n",
      "[ChanceCFR] Strategy saved to /Users/parthkapur/UNi/Spring_25/710_FML/Project/poker/logs/game_data/cfr_strategy_chance.json\n",
      "Training CFRTrainerChance for 50000 iterations...\n",
      "[ChanceCFR] Avg game value: -0.110\n",
      "[ChanceCFR] Strategy saved to /Users/parthkapur/UNi/Spring_25/710_FML/Project/poker/logs/game_data/cfr_strategy_chance.json\n",
      "Training CFRTrainerChance for 100000 iterations...\n",
      "[ChanceCFR] Avg game value: -0.106\n",
      "[ChanceCFR] Strategy saved to /Users/parthkapur/UNi/Spring_25/710_FML/Project/poker/logs/game_data/cfr_strategy_chance.json\n",
      "Training CFRTrainerExternal for 10000 iterations...\n",
      "[ExternalCFR] Avg game value: 0.366\n",
      "[ExternalCFR] Strategy saved to /Users/parthkapur/UNi/Spring_25/710_FML/Project/poker/logs/game_data/cfr_strategy_external.json\n",
      "Training CFRTrainerExternal for 20000 iterations...\n",
      "[ExternalCFR] Avg game value: 0.372\n",
      "[ExternalCFR] Strategy saved to /Users/parthkapur/UNi/Spring_25/710_FML/Project/poker/logs/game_data/cfr_strategy_external.json\n",
      "Training CFRTrainerExternal for 50000 iterations...\n",
      "[ExternalCFR] Avg game value: 0.369\n",
      "[ExternalCFR] Strategy saved to /Users/parthkapur/UNi/Spring_25/710_FML/Project/poker/logs/game_data/cfr_strategy_external.json\n",
      "Training CFRTrainerExternal for 100000 iterations...\n",
      "[ExternalCFR] Avg game value: 0.371\n",
      "[ExternalCFR] Strategy saved to /Users/parthkapur/UNi/Spring_25/710_FML/Project/poker/logs/game_data/cfr_strategy_external.json\n"
     ]
    }
   ],
   "source": [
    "def evaluate_tabular(trainer_cls, iters_list):\n",
    "    values = []\n",
    "    for iters in iters_list:\n",
    "        trainer = trainer_cls(iterations=iters)\n",
    "        # capture stdout\n",
    "        print(f\"Training {trainer_cls.__name__} for {iters} iterations...\")\n",
    "        trainer.train()\n",
    "        # Assuming train() prints avg game value; parse last line\n",
    "        # Here, manually re-run but capture value in code\n",
    "        # util = trainer._cfr([0,1,2], \"\", 1.0, 1.0) * 0  # placeholder\n",
    "        # Use avg = printed value; for demo, use util/iters\n",
    "        avg = 0.0  # replace with actual avg\n",
    "        values.append(avg)\n",
    "    return values\n",
    "\n",
    "iters = [10000, 20000, 50000, 100000]\n",
    "chance_vals = evaluate_tabular(CFRTrainerChance, iters)\n",
    "external_vals = evaluate_tabular(CFRTrainerExternal, iters)"
   ]
  },
  {
   "cell_type": "code",
   "execution_count": 5,
   "id": "d99087c8",
   "metadata": {},
   "outputs": [
    {
     "name": "stdout",
     "output_type": "stream",
     "text": [
      "[0.0, 0.0, 0.0, 0.0]\n"
     ]
    }
   ],
   "source": [
    "print(chance_vals)"
   ]
  },
  {
   "cell_type": "code",
   "execution_count": 4,
   "id": "31e7373e",
   "metadata": {},
   "outputs": [
    {
     "data": {
      "image/png": "[encoded data removed]",
      "text/plain": [
       "<Figure size 640x480 with 1 Axes>"
      ]
     },
     "metadata": {},
     "output_type": "display_data"
    }
   ],
   "source": [
    "plt.figure()\n",
    "plt.plot(iters, chance_vals, label='Chance Sampling')\n",
    "plt.plot(iters, external_vals, label='External Sampling')\n",
    "plt.xlabel('Iterations')\n",
    "plt.ylabel('Average Game Value')\n",
    "plt.title('Convergence of Tabular CFR Variants')\n",
    "plt.legend()\n",
    "plt.show()"
   ]
  },
  {
   "cell_type": "markdown",
   "id": "780fe86c",
   "metadata": {},
   "source": [
    "## Neural Training Loss Curves\n",
    "\n",
    "Train policies on recorded `logs/game_data/training_data.csv`. Capture epoch losses."
   ]
  },
  {
   "cell_type": "code",
   "execution_count": null,
   "id": "740bef73",
   "metadata": {},
   "outputs": [],
   "source": [
    "# Train neural policies and capture losses\n",
    "# Adjust paths if needed\n",
    "chance_losses = train_neural(\n",
    "    'logs/game_data/training_data.csv',\n",
    "    'logs/game_data/neural_chance.pt'\n",
    ")\n",
    "external_losses = train_neural(\n",
    "    'logs/game_data/training_data.csv',\n",
    "    'logs/game_data/neural_external.pt'\n",
    ")"
   ]
  },
  {
   "cell_type": "code",
   "execution_count": null,
   "id": "363ec6e6",
   "metadata": {},
   "outputs": [],
   "source": [
    "plt.figure()\n",
    "plt.plot(range(1, len(chance_losses)+1), chance_losses, label='Neural Chance')\n",
    "plt.plot(range(1, len(external_losses)+1), external_losses, label='Neural External')\n",
    "plt.xlabel('Epoch')\n",
    "plt.ylabel('Loss')\n",
    "plt.title('Neural Policy Training Loss')\n",
    "plt.legend()\n",
    "plt.show()"
   ]
  },
  {
   "cell_type": "markdown",
   "id": "8fb7ccd7",
   "metadata": {},
   "source": [
    "## Round-Robin Matches\n",
    "\n",
    "Let’s have the best three agents play against each other in round-robin fashion and record win rates."
   ]
  },
  {
   "cell_type": "code",
   "execution_count": null,
   "id": "4cff6736",
   "metadata": {},
   "outputs": [],
   "source": [
    "def play_match(agentA, agentB, rounds=1000):\n",
    "    wins = { 'A':0, 'B':0, 'draw':0 }\n",
    "    for _ in range(rounds):\n",
    "        game = KuhnPokerEngine(agentA, agentB, auto_rounds=1)\n",
    "        # capture final chips\n",
    "        game.run_game()\n",
    "        # simplistic: whoever has more chips wins\n",
    "        if game.chips[0] > game.chips[1]: wins['A'] += 1\n",
    "        elif game.chips[1] > game.chips[0]: wins['B'] += 1\n",
    "        else: wins['draw'] += 1\n",
    "    return wins\n",
    "\n",
    "# Instantiate agents\n",
    "tagents = {\n",
    "    'Chance_Tabular': CFRAgentChance(),\n",
    "    'External_Tabular': CFRAgentExternal(),\n",
    "    'Neural_Chance': NeuralAgent('logs/game_data/neural_chance.pt', input_dim=9)\n",
    "}\n",
    "# Round-robin\n",
    "games = []\n",
    "labels = list(tagents.keys())\n",
    "for i in range(len(labels)):\n",
    "    for j in range(i+1, len(labels)):\n",
    "        a, b = labels[i], labels[j]\n",
    "        print(f\"Playing {a} vs {b}\")\n",
    "        res = play_match(tagents[a], tagents[b], rounds=100)\n",
    "        games.append((a, b, res))"
   ]
  },
  {
   "cell_type": "code",
   "execution_count": null,
   "id": "2455ac1e",
   "metadata": {},
   "outputs": [],
   "source": [
    "# Plotting results\n",
    "import pandas as pd\n",
    "records = []\n",
    "for a,b,res in games:\n",
    "    records.append({'Match':f'{a} vs {b}', 'A wins':res['A'], 'B wins':res['B'], 'Draws':res['draw']})\n",
    "df = pd.DataFrame(records).set_index('Match')\n",
    "df.plot(kind='bar', figsize=(10,6))\n",
    "plt.title('Round-Robin Win Counts')\n",
    "plt.show()"
   ]
  }
 ],
 "metadata": {
  "kernelspec": {
   "display_name": "pokerrl",
   "language": "python",
   "name": "python3"
  },
  "language_info": {
   "codemirror_mode": {
    "name": "ipython",
    "version": 3
   },
   "file_extension": ".py",
   "mimetype": "text/x-python",
   "name": "python",
   "nbconvert_exporter": "python",
   "pygments_lexer": "ipython3",
   "version": "3.13.1"
  }
 },
 "nbformat": 4,
 "nbformat_minor": 5
}
