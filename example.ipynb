{
 "cells": [
  {
   "cell_type": "markdown",
   "metadata": {},
   "source": [
    "# Kuhn Poker Game Examples\n",
    "\n",
    "This notebook contains examples of how to use the Kuhn Poker Engine with different player configurations."
   ]
  },
  {
   "cell_type": "code",
   "execution_count": null,
   "metadata": {},
   "outputs": [],
   "source": [
    "# main.py\n",
    "# This code serves as the entry point for running the Kuhn Poker game.\n",
    "# For 3 players, you can use the below code.\n",
    "\n",
    "from engine.KuhnPokerEngine import KuhnPokerEngine\n",
    "from players.human_agent import HumanPlayer\n",
    "from players.random_agent import RandomPlayer\n",
    "from players.frl_agent import FRLAgent\n",
    "import os\n",
    "\n",
    "# Initialize players\n",
    "frl_agent = FRLAgent(player_id=0, state_dim=20, action_dim=5, variant=\"kuhn_3p\")\n",
    "\n",
    "# Create two random players\n",
    "random_player1 = RandomPlayer()\n",
    "random_player2 = RandomPlayer()\n",
    "\n",
    "model_path = os.path.join(\"models\", \"frl-model\", \"best_frl_global.pt\")\n",
    "frl_agent.load_model(model_path)\n",
    "\n",
    "# For inference only (pure exploitation)\n",
    "frl_agent.epsilon = 0.01\n",
    "\n",
    "# Create the poker engine\n",
    "engine = KuhnPokerEngine(\n",
    "    player0=frl_agent,\n",
    "    player1=random_player1,\n",
    "    player2=random_player2,\n",
    "    delay=0.0,\n",
    "    num_players=3,\n",
    "    auto_rounds=100\n",
    ")\n",
    "\n",
    "engine.run_game()\n"
   ]
  },
  {
   "cell_type": "code",
   "execution_count": null,
   "metadata": {},
   "outputs": [],
   "source": [
    "# To run the game with human players\n",
    "\n",
    "from engine.KuhnPokerEngine import KuhnPokerEngine\n",
    "from players.human_agent import HumanPlayer\n",
    "from players.random_agent import RandomPlayer\n",
    "# from players.federated_agent import FederatedPlayer\n",
    "\n",
    "if __name__ == \"__main__\":\n",
    "\n",
    "    # Three agents\n",
    "    player0 = HumanPlayer()\n",
    "    player1 = HumanPlayer()\n",
    "    player2 = HumanPlayer()\n",
    "\n",
    "    engine = KuhnPokerEngine(\n",
    "        player0=player0,\n",
    "        player1=player1,\n",
    "        player2=player2,\n",
    "        delay=0.0,  # Set to 0 because human players are involved\n",
    "        num_players=3,\n",
    "        auto_rounds=None \n",
    "    )\n",
    "\n",
    "    engine.run_game()"
   ]
  },
  {
   "cell_type": "code",
   "execution_count": null,
   "metadata": {},
   "outputs": [],
   "source": [
    "from engine.KuhnPokerEngine import KuhnPokerEngine\n",
    "from players.random_agent import RandomPlayer\n",
    "from players.ollama_agent import OllamaPlayer\n",
    "\n",
    "if __name__ == \"__main__\":\n",
    "    player0 = RandomPlayer()\n",
    "    player1 = RandomPlayer()\n",
    "    player2 = OllamaPlayer(model_name=\"deepseek-r1:1.5b\", temperature=0.5)\n",
    "\n",
    "    # Initialize the game engine\n",
    "    engine = KuhnPokerEngine(\n",
    "        player0=player0,\n",
    "        player1=player1,\n",
    "        player2=player2,\n",
    "        delay=0.0,\n",
    "        num_players=3,\n",
    "        auto_rounds=10\n",
    "    )\n",
    "\n",
    "    engine.run_game()"
   ]
  },
  {
   "cell_type": "code",
   "execution_count": null,
   "metadata": {},
   "outputs": [],
   "source": [
    "# For 2 players\n",
    "\n",
    "from engine.KuhnPokerEngine import KuhnPokerEngine\n",
    "from players.human_agent import HumanPlayer\n",
    "from players.random_agent import RandomPlayer\n",
    "\n",
    "if __name__ == \"__main__\":\n",
    "    # Example usage:\n",
    "    #  - 2 players: one human, one random\n",
    "\n",
    "    # Two agents\n",
    "    player0 = HumanPlayer()\n",
    "    player1 = RandomPlayer()\n",
    "\n",
    "    engine = KuhnPokerEngine(\n",
    "        player0=player0,\n",
    "        player1=player1,\n",
    "        delay=0.0,  # Set delay to 0 when human players are involved to avoid input timing issues\n",
    "        num_players=2,\n",
    "        auto_rounds=None  # If there's a human, set None to ask for next round. If no humans, set e.g. 5\n",
    "    )\n",
    "\n",
    "    engine.run_game()"
   ]
  }
 ],
 "metadata": {
  "kernelspec": {
   "display_name": ".venv",
   "language": "python",
   "name": "python3"
  },
  "language_info": {
   "codemirror_mode": {
    "name": "ipython",
    "version": 3
   },
   "file_extension": ".py",
   "mimetype": "text/x-python",
   "name": "python",
   "nbconvert_exporter": "python",
   "pygments_lexer": "ipython3",
   "version": "3.9.6"
  }
 },
 "nbformat": 4,
 "nbformat_minor": 4
}
